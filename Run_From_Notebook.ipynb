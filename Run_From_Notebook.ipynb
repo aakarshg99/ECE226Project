{
  "nbformat": 4,
  "nbformat_minor": 0,
  "metadata": {
    "colab": {
      "provenance": [],
      "gpuType": "T4"
    },
    "kernelspec": {
      "name": "python3",
      "display_name": "Python 3"
    },
    "language_info": {
      "name": "python"
    },
    "accelerator": "GPU"
  },
  "cells": [
    {
      "cell_type": "code",
      "source": [
        "from google.colab import drive\n",
        "drive.mount('/content/drive/')"
      ],
      "metadata": {
        "id": "wCigX3791sJm"
      },
      "execution_count": null,
      "outputs": []
    },
    {
      "cell_type": "code",
      "source": [
        "! git clone https://github.com/StuartBoynton1/ECE226Project.git drive/MyDrive/GNN-NAS-Group10"
      ],
      "metadata": {
        "id": "bmSh5eyS3Dv4"
      },
      "execution_count": null,
      "outputs": []
    },
    {
      "cell_type": "code",
      "source": [
        "import torch\n",
        "torch.cuda.is_available()"
      ],
      "metadata": {
        "id": "JAcbzGanZ6sF"
      },
      "execution_count": null,
      "outputs": []
    },
    {
      "cell_type": "markdown",
      "source": [
        "The command line arguments below are (cycles, population_size, sample_size).\n",
        "\n",
        "Cycles refers to the number of architectures to create in total.\n",
        "\n",
        "Population_size refers to the  number of architectures stored at any given time, from which new architectures are created.\n",
        "\n",
        "Sample_size is the number of randomly chosen architectures from the current population, after which the one with the highest validation accuracy is chosen to be the parent of the next architecture."
      ],
      "metadata": {
        "id": "bUdkS2-0WCcB"
      }
    },
    {
      "cell_type": "code",
      "source": [
        "! python drive/MyDrive/GNN-NAS-Group10/code/search-cora.py 50 10 3"
      ],
      "metadata": {
        "id": "a2Zwvj-3Ymk9"
      },
      "execution_count": null,
      "outputs": []
    },
    {
      "cell_type": "code",
      "source": [
        "! python drive/MyDrive/GNN-NAS-Group10/code/search-pubmed.py 50 10 3"
      ],
      "metadata": {
        "id": "pa4T8gTTNmaJ"
      },
      "execution_count": null,
      "outputs": []
    }
  ]
}